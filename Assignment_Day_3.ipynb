{
  "nbformat": 4,
  "nbformat_minor": 0,
  "metadata": {
    "colab": {
      "name": "Assignment Day 3",
      "provenance": [],
      "authorship_tag": "ABX9TyP9bdgZJJUCOeolwMBINlws",
      "include_colab_link": true
    },
    "kernelspec": {
      "name": "python3",
      "display_name": "Python 3"
    }
  },
  "cells": [
    {
      "cell_type": "markdown",
      "metadata": {
        "id": "view-in-github",
        "colab_type": "text"
      },
      "source": [
        "<a href=\"https://colab.research.google.com/github/vishwanandana/Lets_upgrade_python-programs/blob/main/Assignment_Day_3.ipynb\" target=\"_parent\"><img src=\"https://colab.research.google.com/assets/colab-badge.svg\" alt=\"Open In Colab\"/></a>"
      ]
    },
    {
      "cell_type": "markdown",
      "metadata": {
        "id": "qCHaoRQRSSmI"
      },
      "source": [
        "Question 1"
      ]
    },
    {
      "cell_type": "code",
      "metadata": {
        "id": "hRQ0am4TTGSm"
      },
      "source": [
        "myfile = open('myfile.txt', 'w')\n",
        "myfile.write(\"I Love LetsUpgrade. \")\n",
        "myfile.close()\n",
        " \n",
        " \n",
        "myfile = open('myfile.txt','r')\n",
        "read_myfile = myfile.read()\n",
        "myfile.close()\n",
        " \n",
        " \n",
        " \n",
        "myfile = open('myfile.txt', 'a')\n",
        "myfile.write('Some random text')\n",
        "myfile.close()"
      ],
      "execution_count": 7,
      "outputs": []
    },
    {
      "cell_type": "markdown",
      "metadata": {
        "id": "y0XGcXBETbbu"
      },
      "source": [
        "Question 2"
      ]
    },
    {
      "cell_type": "code",
      "metadata": {
        "colab": {
          "base_uri": "https://localhost:8080/"
        },
        "id": "B00SpSY2TdHJ",
        "outputId": "c1820c4d-f2a6-432f-e9c4-2134a03b5632"
      },
      "source": [
        "def fact(n):\n",
        "    if n == 0:\n",
        "        return 1\n",
        "    else:\n",
        "        return n * fact(n-1)\n",
        "n=int(input())\n",
        "print(fact(n))"
      ],
      "execution_count": 10,
      "outputs": [
        {
          "output_type": "stream",
          "text": [
            "6\n",
            "720\n"
          ],
          "name": "stdout"
        }
      ]
    }
  ]
}