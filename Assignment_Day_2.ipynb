{
  "nbformat": 4,
  "nbformat_minor": 0,
  "metadata": {
    "colab": {
      "name": "Assignment Day 2",
      "provenance": [],
      "collapsed_sections": [],
      "authorship_tag": "ABX9TyOBaA2SIedjZHrcUNxT53d0",
      "include_colab_link": true
    },
    "kernelspec": {
      "name": "python3",
      "display_name": "Python 3"
    }
  },
  "cells": [
    {
      "cell_type": "markdown",
      "metadata": {
        "id": "view-in-github",
        "colab_type": "text"
      },
      "source": [
        "<a href=\"https://colab.research.google.com/github/vishwanandana/Lets_upgrade_python-programs/blob/main/Assignment_Day_2.ipynb\" target=\"_parent\"><img src=\"https://colab.research.google.com/assets/colab-badge.svg\" alt=\"Open In Colab\"/></a>"
      ]
    },
    {
      "cell_type": "code",
      "metadata": {
        "id": "7LoePW0HWS20"
      },
      "source": [
        "#Different string functions"
      ],
      "execution_count": null,
      "outputs": []
    },
    {
      "cell_type": "code",
      "metadata": {
        "id": "EUOVXlENIlsb",
        "colab": {
          "base_uri": "https://localhost:8080/"
        },
        "outputId": "00524634-bf3b-4bff-8172-311f11503018"
      },
      "source": [
        "name=\"Hello Vishwanandana\"\n",
        "print(name.replace(\"Vishwanandana\",\"lets upgrade\"))"
      ],
      "execution_count": null,
      "outputs": [
        {
          "output_type": "stream",
          "text": [
            "Hello lets upgrade\n"
          ],
          "name": "stdout"
        }
      ]
    },
    {
      "cell_type": "code",
      "metadata": {
        "colab": {
          "base_uri": "https://localhost:8080/"
        },
        "id": "kVWjL0z-WbL9",
        "outputId": "8d9f0cd5-c223-4b20-e83f-6c47702a6ad8"
      },
      "source": [
        "n1=\"Hello\"\n",
        "n2=\"Everyone\"\n",
        "print(n1.join(n2))"
      ],
      "execution_count": null,
      "outputs": [
        {
          "output_type": "stream",
          "text": [
            "EHellovHelloeHellorHelloyHellooHellonHelloe\n"
          ],
          "name": "stdout"
        }
      ]
    },
    {
      "cell_type": "code",
      "metadata": {
        "colab": {
          "base_uri": "https://localhost:8080/"
        },
        "id": "knPCnfMaYUr3",
        "outputId": "f124d480-13d3-4eef-d41b-91e89d3b7dbe"
      },
      "source": [
        "name=\"Vishwanandana\"\n",
        "print(len(name))"
      ],
      "execution_count": null,
      "outputs": [
        {
          "output_type": "stream",
          "text": [
            "13\n"
          ],
          "name": "stdout"
        }
      ]
    },
    {
      "cell_type": "code",
      "metadata": {
        "colab": {
          "base_uri": "https://localhost:8080/"
        },
        "id": "Mpz2CeXlYuvv",
        "outputId": "1f4fdaad-1135-49e1-d4bd-56468ece9e0c"
      },
      "source": [
        "name=\"HELLO\"\n",
        "print(name.lower())"
      ],
      "execution_count": null,
      "outputs": [
        {
          "output_type": "stream",
          "text": [
            "hello\n"
          ],
          "name": "stdout"
        }
      ]
    },
    {
      "cell_type": "code",
      "metadata": {
        "colab": {
          "base_uri": "https://localhost:8080/"
        },
        "id": "rqvSDLADZXlO",
        "outputId": "7eccfe31-b6c0-4d93-92e5-f5f8f22fedbb"
      },
      "source": [
        "name=\"Hello\"\n",
        "print(name.format())"
      ],
      "execution_count": null,
      "outputs": [
        {
          "output_type": "stream",
          "text": [
            "Hello\n"
          ],
          "name": "stdout"
        }
      ]
    },
    {
      "cell_type": "code",
      "metadata": {
        "id": "EgN27sC5axn5"
      },
      "source": [
        "#Different List functions"
      ],
      "execution_count": null,
      "outputs": []
    },
    {
      "cell_type": "code",
      "metadata": {
        "colab": {
          "base_uri": "https://localhost:8080/"
        },
        "id": "-btVifZoa1DU",
        "outputId": "2337b4c3-cd7c-4bb4-9242-6710af81f4eb"
      },
      "source": [
        "mylist=[1,2,3]\n",
        "mylist.insert(3,4)\n",
        "print(mylist)"
      ],
      "execution_count": null,
      "outputs": [
        {
          "output_type": "stream",
          "text": [
            "[1, 2, 3, 4]\n"
          ],
          "name": "stdout"
        }
      ]
    },
    {
      "cell_type": "code",
      "metadata": {
        "colab": {
          "base_uri": "https://localhost:8080/"
        },
        "id": "eczrS5zqcUDp",
        "outputId": "798bf6a8-6c13-4f4a-9c34-bad0958df01b"
      },
      "source": [
        "mylist=['Vishwa']\n",
        "mylist.append(\"nandana\") \n",
        "print(mylist)"
      ],
      "execution_count": null,
      "outputs": [
        {
          "output_type": "stream",
          "text": [
            "['Vishwa', 'nandana']\n"
          ],
          "name": "stdout"
        }
      ]
    },
    {
      "cell_type": "code",
      "metadata": {
        "colab": {
          "base_uri": "https://localhost:8080/"
        },
        "id": "jECmGsWlc1tz",
        "outputId": "0abca0d3-139e-4704-922d-cd5111649e0e"
      },
      "source": [
        "mylist=[1,2,3]\n",
        "mylist.reverse() \n",
        "print(mylist)"
      ],
      "execution_count": null,
      "outputs": [
        {
          "output_type": "stream",
          "text": [
            "[3, 2, 1]\n"
          ],
          "name": "stdout"
        }
      ]
    },
    {
      "cell_type": "code",
      "metadata": {
        "colab": {
          "base_uri": "https://localhost:8080/"
        },
        "id": "0pAxHTTzdt6l",
        "outputId": "e898550f-c0c8-4531-88c9-f866e7c925d7"
      },
      "source": [
        "mylist=['one','two','three']\n",
        "print(mylist.index('three') )"
      ],
      "execution_count": null,
      "outputs": [
        {
          "output_type": "stream",
          "text": [
            "2\n"
          ],
          "name": "stdout"
        }
      ]
    },
    {
      "cell_type": "code",
      "metadata": {
        "colab": {
          "base_uri": "https://localhost:8080/"
        },
        "id": "3avGa_0gfc74",
        "outputId": "2fb4afe6-7e67-4208-d3ff-b80cdba22934"
      },
      "source": [
        "mylist=['one','two','three']\n",
        "mylist.remove('three') \n",
        "print(mylist)"
      ],
      "execution_count": null,
      "outputs": [
        {
          "output_type": "stream",
          "text": [
            "['one', 'two']\n"
          ],
          "name": "stdout"
        }
      ]
    },
    {
      "cell_type": "code",
      "metadata": {
        "id": "DY2gkYw5f0bN"
      },
      "source": [
        "#Default functions of dictionary"
      ],
      "execution_count": null,
      "outputs": []
    },
    {
      "cell_type": "code",
      "metadata": {
        "id": "UUS3rK15f9O8",
        "colab": {
          "base_uri": "https://localhost:8080/"
        },
        "outputId": "93143659-fbb1-430f-a23b-dda104295453"
      },
      "source": [
        "dict={'Name':'Nandu','Rollno':44,'Dept':'ece','Marks':95}\n",
        "print(dict.keys())"
      ],
      "execution_count": null,
      "outputs": [
        {
          "output_type": "stream",
          "text": [
            "dict_keys(['Name', 'Rollno', 'Dept', 'Marks'])\n"
          ],
          "name": "stdout"
        }
      ]
    },
    {
      "cell_type": "code",
      "metadata": {
        "colab": {
          "base_uri": "https://localhost:8080/"
        },
        "id": "fpkdTMnuucIe",
        "outputId": "37894214-a0af-408e-b3af-cb83425e58b6"
      },
      "source": [
        "dict={'Name':'Nandu','Rollno':44,'Dept':'ece','Marks':95}\n",
        "print(dict.values())"
      ],
      "execution_count": null,
      "outputs": [
        {
          "output_type": "stream",
          "text": [
            "dict_values(['Nandu', 44, 'ece', 95])\n"
          ],
          "name": "stdout"
        }
      ]
    },
    {
      "cell_type": "code",
      "metadata": {
        "colab": {
          "base_uri": "https://localhost:8080/"
        },
        "id": "2yritF8nvIA9",
        "outputId": "519103f8-afe8-410b-ef7a-f803b6e24381"
      },
      "source": [
        "dict={'Name':'Nandu','Rollno':44,'Dept':'ece','Marks':95}\n",
        "dict.pop('Marks')\n",
        "print(dict)"
      ],
      "execution_count": null,
      "outputs": [
        {
          "output_type": "stream",
          "text": [
            "{'Name': 'Nandu', 'Rollno': 44, 'Dept': 'ece'}\n"
          ],
          "name": "stdout"
        }
      ]
    },
    {
      "cell_type": "code",
      "metadata": {
        "colab": {
          "base_uri": "https://localhost:8080/"
        },
        "id": "i9HPWZz-vhfu",
        "outputId": "083c7a26-70a7-499e-e543-0c3b87eaa9ac"
      },
      "source": [
        "dict={'Name':'Nandu','Rollno':44,'Dept':'ece','Marks':95}\n",
        "dict.clear()\n",
        "print(dict)"
      ],
      "execution_count": null,
      "outputs": [
        {
          "output_type": "stream",
          "text": [
            "{}\n"
          ],
          "name": "stdout"
        }
      ]
    },
    {
      "cell_type": "code",
      "metadata": {
        "colab": {
          "base_uri": "https://localhost:8080/"
        },
        "id": "81OjzkLuvvQN",
        "outputId": "f7637432-985e-4220-c851-8e9c4f674188"
      },
      "source": [
        "dict={'Name':'Nandu','Rollno':44,'Dept':'ece','Marks':95}\n",
        "dict.update({'Age':20})\n",
        "print(dict)"
      ],
      "execution_count": null,
      "outputs": [
        {
          "output_type": "stream",
          "text": [
            "{'Name': 'Nandu', 'Rollno': 44, 'Dept': 'ece', 'Marks': 95, 'Age': 20}\n"
          ],
          "name": "stdout"
        }
      ]
    }
  ]
}